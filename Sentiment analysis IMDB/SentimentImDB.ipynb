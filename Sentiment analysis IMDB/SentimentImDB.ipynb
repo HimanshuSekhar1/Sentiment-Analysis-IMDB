{
  "nbformat": 4,
  "nbformat_minor": 0,
  "metadata": {
    "colab": {
      "provenance": []
    },
    "kernelspec": {
      "name": "python3",
      "display_name": "Python 3"
    },
    "language_info": {
      "name": "python"
    }
  },
  "cells": [
    {
      "cell_type": "code",
      "execution_count": 1,
      "metadata": {
        "id": "MkjA5kMDOGtL"
      },
      "outputs": [],
      "source": [
        "# Import required modules\n",
        "\n",
        "import numpy as np\n",
        "import pandas as pd\n",
        "import matplotlib.pyplot as plt\n",
        "from google.colab import files"
      ]
    },
    {
      "cell_type": "code",
      "source": [
        "from google.colab import drive\n",
        "drive.mount('/content/gdrive')"
      ],
      "metadata": {
        "colab": {
          "base_uri": "https://localhost:8080/"
        },
        "id": "rutwsPJQOLMl",
        "outputId": "d1b26407-dac7-4901-fe1e-540800adfe10"
      },
      "execution_count": 2,
      "outputs": [
        {
          "output_type": "stream",
          "name": "stdout",
          "text": [
            "Mounted at /content/gdrive\n"
          ]
        }
      ]
    },
    {
      "cell_type": "code",
      "source": [
        "data = pd.read_csv('/content/gdrive/MyDrive/Dataset file/IMDB Dataset.csv/IMDB Dataset.csv')"
      ],
      "metadata": {
        "id": "FhjSQHUtORpT"
      },
      "execution_count": 3,
      "outputs": []
    },
    {
      "cell_type": "code",
      "source": [
        "# Load the regular expression library\n",
        "import re\n",
        "\n",
        "# Remove punctuation\n",
        "data['processed_review'] = data['review'].map(lambda x: re.sub('[,\\.!?\":-]', '', x))\n",
        "\n",
        "# Remove <br /r> with space\n",
        "data['processed_review'] = data['processed_review'].map(lambda x: re.sub('<br /><br />', ' ', x))\n",
        "\n",
        "# Convert the titles to lowercase\n",
        "data['processed_review'] = data['processed_review'].map(lambda x: x.lower())\n",
        "\n",
        "# create new column for sentiments\n",
        "data['num_sentiment'] = data['sentiment'].replace(\"positive\", 1) # replaced positive with 1\n",
        "data['num_sentiment'] = data['num_sentiment'].replace(\"negative\", 0) # replaced negative with 0\n",
        "\n",
        "# Check the data\n",
        "data.head()"
      ],
      "metadata": {
        "colab": {
          "base_uri": "https://localhost:8080/",
          "height": 206
        },
        "id": "9HJJcvbgOVLM",
        "outputId": "e91a711d-56b9-4aa8-bb4b-09ef84668eac"
      },
      "execution_count": 10,
      "outputs": [
        {
          "output_type": "execute_result",
          "data": {
            "text/plain": [
              "                                              review sentiment  \\\n",
              "0  One of the other reviewers has mentioned that ...  positive   \n",
              "1  A wonderful little production. <br /><br />The...  positive   \n",
              "2  I thought this was a wonderful way to spend ti...  positive   \n",
              "3  Basically there's a family where a little boy ...  negative   \n",
              "4  Petter Mattei's \"Love in the Time of Money\" is...  positive   \n",
              "\n",
              "                                    processed_review  num_sentiment  \n",
              "0  one of the other reviewers has mentioned that ...              1  \n",
              "1  a wonderful little production  the filming tec...              1  \n",
              "2  i thought this was a wonderful way to spend ti...              1  \n",
              "3  basically there's a family where a little boy ...              0  \n",
              "4  petter mattei's love in the time of money is a...              1  "
            ],
            "text/html": [
              "\n",
              "  <div id=\"df-057691fc-9c13-416d-8b69-e1e85814cb19\">\n",
              "    <div class=\"colab-df-container\">\n",
              "      <div>\n",
              "<style scoped>\n",
              "    .dataframe tbody tr th:only-of-type {\n",
              "        vertical-align: middle;\n",
              "    }\n",
              "\n",
              "    .dataframe tbody tr th {\n",
              "        vertical-align: top;\n",
              "    }\n",
              "\n",
              "    .dataframe thead th {\n",
              "        text-align: right;\n",
              "    }\n",
              "</style>\n",
              "<table border=\"1\" class=\"dataframe\">\n",
              "  <thead>\n",
              "    <tr style=\"text-align: right;\">\n",
              "      <th></th>\n",
              "      <th>review</th>\n",
              "      <th>sentiment</th>\n",
              "      <th>processed_review</th>\n",
              "      <th>num_sentiment</th>\n",
              "    </tr>\n",
              "  </thead>\n",
              "  <tbody>\n",
              "    <tr>\n",
              "      <th>0</th>\n",
              "      <td>One of the other reviewers has mentioned that ...</td>\n",
              "      <td>positive</td>\n",
              "      <td>one of the other reviewers has mentioned that ...</td>\n",
              "      <td>1</td>\n",
              "    </tr>\n",
              "    <tr>\n",
              "      <th>1</th>\n",
              "      <td>A wonderful little production. &lt;br /&gt;&lt;br /&gt;The...</td>\n",
              "      <td>positive</td>\n",
              "      <td>a wonderful little production  the filming tec...</td>\n",
              "      <td>1</td>\n",
              "    </tr>\n",
              "    <tr>\n",
              "      <th>2</th>\n",
              "      <td>I thought this was a wonderful way to spend ti...</td>\n",
              "      <td>positive</td>\n",
              "      <td>i thought this was a wonderful way to spend ti...</td>\n",
              "      <td>1</td>\n",
              "    </tr>\n",
              "    <tr>\n",
              "      <th>3</th>\n",
              "      <td>Basically there's a family where a little boy ...</td>\n",
              "      <td>negative</td>\n",
              "      <td>basically there's a family where a little boy ...</td>\n",
              "      <td>0</td>\n",
              "    </tr>\n",
              "    <tr>\n",
              "      <th>4</th>\n",
              "      <td>Petter Mattei's \"Love in the Time of Money\" is...</td>\n",
              "      <td>positive</td>\n",
              "      <td>petter mattei's love in the time of money is a...</td>\n",
              "      <td>1</td>\n",
              "    </tr>\n",
              "  </tbody>\n",
              "</table>\n",
              "</div>\n",
              "      <button class=\"colab-df-convert\" onclick=\"convertToInteractive('df-057691fc-9c13-416d-8b69-e1e85814cb19')\"\n",
              "              title=\"Convert this dataframe to an interactive table.\"\n",
              "              style=\"display:none;\">\n",
              "        \n",
              "  <svg xmlns=\"http://www.w3.org/2000/svg\" height=\"24px\"viewBox=\"0 0 24 24\"\n",
              "       width=\"24px\">\n",
              "    <path d=\"M0 0h24v24H0V0z\" fill=\"none\"/>\n",
              "    <path d=\"M18.56 5.44l.94 2.06.94-2.06 2.06-.94-2.06-.94-.94-2.06-.94 2.06-2.06.94zm-11 1L8.5 8.5l.94-2.06 2.06-.94-2.06-.94L8.5 2.5l-.94 2.06-2.06.94zm10 10l.94 2.06.94-2.06 2.06-.94-2.06-.94-.94-2.06-.94 2.06-2.06.94z\"/><path d=\"M17.41 7.96l-1.37-1.37c-.4-.4-.92-.59-1.43-.59-.52 0-1.04.2-1.43.59L10.3 9.45l-7.72 7.72c-.78.78-.78 2.05 0 2.83L4 21.41c.39.39.9.59 1.41.59.51 0 1.02-.2 1.41-.59l7.78-7.78 2.81-2.81c.8-.78.8-2.07 0-2.86zM5.41 20L4 18.59l7.72-7.72 1.47 1.35L5.41 20z\"/>\n",
              "  </svg>\n",
              "      </button>\n",
              "      \n",
              "  <style>\n",
              "    .colab-df-container {\n",
              "      display:flex;\n",
              "      flex-wrap:wrap;\n",
              "      gap: 12px;\n",
              "    }\n",
              "\n",
              "    .colab-df-convert {\n",
              "      background-color: #E8F0FE;\n",
              "      border: none;\n",
              "      border-radius: 50%;\n",
              "      cursor: pointer;\n",
              "      display: none;\n",
              "      fill: #1967D2;\n",
              "      height: 32px;\n",
              "      padding: 0 0 0 0;\n",
              "      width: 32px;\n",
              "    }\n",
              "\n",
              "    .colab-df-convert:hover {\n",
              "      background-color: #E2EBFA;\n",
              "      box-shadow: 0px 1px 2px rgba(60, 64, 67, 0.3), 0px 1px 3px 1px rgba(60, 64, 67, 0.15);\n",
              "      fill: #174EA6;\n",
              "    }\n",
              "\n",
              "    [theme=dark] .colab-df-convert {\n",
              "      background-color: #3B4455;\n",
              "      fill: #D2E3FC;\n",
              "    }\n",
              "\n",
              "    [theme=dark] .colab-df-convert:hover {\n",
              "      background-color: #434B5C;\n",
              "      box-shadow: 0px 1px 3px 1px rgba(0, 0, 0, 0.15);\n",
              "      filter: drop-shadow(0px 1px 2px rgba(0, 0, 0, 0.3));\n",
              "      fill: #FFFFFF;\n",
              "    }\n",
              "  </style>\n",
              "\n",
              "      <script>\n",
              "        const buttonEl =\n",
              "          document.querySelector('#df-057691fc-9c13-416d-8b69-e1e85814cb19 button.colab-df-convert');\n",
              "        buttonEl.style.display =\n",
              "          google.colab.kernel.accessAllowed ? 'block' : 'none';\n",
              "\n",
              "        async function convertToInteractive(key) {\n",
              "          const element = document.querySelector('#df-057691fc-9c13-416d-8b69-e1e85814cb19');\n",
              "          const dataTable =\n",
              "            await google.colab.kernel.invokeFunction('convertToInteractive',\n",
              "                                                     [key], {});\n",
              "          if (!dataTable) return;\n",
              "\n",
              "          const docLinkHtml = 'Like what you see? Visit the ' +\n",
              "            '<a target=\"_blank\" href=https://colab.research.google.com/notebooks/data_table.ipynb>data table notebook</a>'\n",
              "            + ' to learn more about interactive tables.';\n",
              "          element.innerHTML = '';\n",
              "          dataTable['output_type'] = 'display_data';\n",
              "          await google.colab.output.renderOutput(dataTable, element);\n",
              "          const docLink = document.createElement('div');\n",
              "          docLink.innerHTML = docLinkHtml;\n",
              "          element.appendChild(docLink);\n",
              "        }\n",
              "      </script>\n",
              "    </div>\n",
              "  </div>\n",
              "  "
            ]
          },
          "metadata": {},
          "execution_count": 10
        }
      ]
    },
    {
      "cell_type": "code",
      "source": [
        "training_size = 40000\n",
        "\n",
        "training_reviews = data['processed_review'][0:training_size]\n",
        "testing_reviews = data['processed_review'][training_size:]\n",
        "\n",
        "training_labels = data['num_sentiment'][0:training_size]\n",
        "testing_labels = data['num_sentiment'][training_size:]"
      ],
      "metadata": {
        "id": "u8mXFG53RkUD"
      },
      "execution_count": 12,
      "outputs": []
    },
    {
      "cell_type": "code",
      "source": [
        "# Import modules\n",
        "import tensorflow as tf\n",
        "from tensorflow import keras\n",
        "from tensorflow.keras.preprocessing.text import Tokenizer\n",
        "from tensorflow.keras.preprocessing.sequence import pad_sequences\n",
        "\n",
        "words = 1000 # vocab_size\n",
        "oov_tok = \"<OOV>\"\n",
        "max_length = 1000\n",
        "padding_type = 'post'\n",
        "trunc_type = 'post'\n",
        "\n",
        "tokenizer = Tokenizer(num_words=words, oov_token=oov_tok)\n",
        "tokenizer.fit_on_texts(training_reviews)\n",
        "\n",
        "word_index = tokenizer.word_index\n",
        "\n",
        "training_sequences = tokenizer.texts_to_sequences(training_reviews)\n",
        "training_padded = pad_sequences(training_sequences, maxlen=max_length, padding=padding_type, truncating=trunc_type)\n",
        "\n",
        "testing_sequences = tokenizer.texts_to_sequences(testing_reviews)\n",
        "testing_padded = pad_sequences(testing_sequences, maxlen=max_length, padding=padding_type, truncating=trunc_type)"
      ],
      "metadata": {
        "id": "0cPDliTUSAXt"
      },
      "execution_count": 17,
      "outputs": []
    },
    {
      "cell_type": "code",
      "source": [
        "embedding_dim = 16\n",
        "\n",
        "model = tf.keras.Sequential([\n",
        "    tf.keras.layers.Embedding(words, embedding_dim, input_length=max_length),\n",
        "    tf.keras.layers.GlobalAveragePooling1D(),\n",
        "    tf.keras.layers.Dense(24, activation='relu'),\n",
        "    tf.keras.layers.Dense(1, activation='sigmoid')\n",
        "])\n",
        "model.compile(loss = 'binary_crossentropy', optimizer='adam',metrics=['accuracy'])"
      ],
      "metadata": {
        "id": "PrEYxkCDSNRe"
      },
      "execution_count": 18,
      "outputs": []
    },
    {
      "cell_type": "code",
      "source": [
        "model.summary()"
      ],
      "metadata": {
        "id": "MKhZz5jMSP8T"
      },
      "execution_count": null,
      "outputs": []
    },
    {
      "cell_type": "code",
      "source": [
        "history = model.fit(training_padded, training_labels, epochs=30, validation_data=(testing_padded, testing_labels), verbose=1)"
      ],
      "metadata": {
        "colab": {
          "base_uri": "https://localhost:8080/"
        },
        "id": "TjJULX5HSRAD",
        "outputId": "640e0ebf-8237-4d3d-df30-7eed11a6319c"
      },
      "execution_count": 20,
      "outputs": [
        {
          "output_type": "stream",
          "name": "stdout",
          "text": [
            "Epoch 1/30\n",
            "1250/1250 [==============================] - 10s 7ms/step - loss: 0.5866 - accuracy: 0.7003 - val_loss: 0.4190 - val_accuracy: 0.8289\n",
            "Epoch 2/30\n",
            "1250/1250 [==============================] - 9s 7ms/step - loss: 0.3687 - accuracy: 0.8489 - val_loss: 0.3479 - val_accuracy: 0.8561\n",
            "Epoch 3/30\n",
            "1250/1250 [==============================] - 8s 7ms/step - loss: 0.3315 - accuracy: 0.8628 - val_loss: 0.3318 - val_accuracy: 0.8630\n",
            "Epoch 4/30\n",
            "1250/1250 [==============================] - 8s 7ms/step - loss: 0.3174 - accuracy: 0.8695 - val_loss: 0.3218 - val_accuracy: 0.8658\n",
            "Epoch 5/30\n",
            "1250/1250 [==============================] - 8s 7ms/step - loss: 0.3076 - accuracy: 0.8731 - val_loss: 0.3383 - val_accuracy: 0.8551\n",
            "Epoch 6/30\n",
            "1250/1250 [==============================] - 9s 7ms/step - loss: 0.3019 - accuracy: 0.8745 - val_loss: 0.3104 - val_accuracy: 0.8691\n",
            "Epoch 7/30\n",
            "1250/1250 [==============================] - 8s 7ms/step - loss: 0.2981 - accuracy: 0.8765 - val_loss: 0.3109 - val_accuracy: 0.8682\n",
            "Epoch 8/30\n",
            "1250/1250 [==============================] - 9s 7ms/step - loss: 0.2980 - accuracy: 0.8759 - val_loss: 0.3069 - val_accuracy: 0.8705\n",
            "Epoch 9/30\n",
            "1250/1250 [==============================] - 9s 7ms/step - loss: 0.2939 - accuracy: 0.8762 - val_loss: 0.3169 - val_accuracy: 0.8669\n",
            "Epoch 10/30\n",
            "1250/1250 [==============================] - 8s 7ms/step - loss: 0.2947 - accuracy: 0.8765 - val_loss: 0.3069 - val_accuracy: 0.8709\n",
            "Epoch 11/30\n",
            "1250/1250 [==============================] - 8s 7ms/step - loss: 0.2929 - accuracy: 0.8772 - val_loss: 0.3056 - val_accuracy: 0.8700\n",
            "Epoch 12/30\n",
            "1250/1250 [==============================] - 8s 7ms/step - loss: 0.2917 - accuracy: 0.8783 - val_loss: 0.3355 - val_accuracy: 0.8526\n",
            "Epoch 13/30\n",
            "1250/1250 [==============================] - 9s 7ms/step - loss: 0.2901 - accuracy: 0.8789 - val_loss: 0.3194 - val_accuracy: 0.8605\n",
            "Epoch 14/30\n",
            "1250/1250 [==============================] - 9s 7ms/step - loss: 0.2902 - accuracy: 0.8791 - val_loss: 0.3066 - val_accuracy: 0.8676\n",
            "Epoch 15/30\n",
            "1250/1250 [==============================] - 9s 7ms/step - loss: 0.2905 - accuracy: 0.8781 - val_loss: 0.3051 - val_accuracy: 0.8691\n",
            "Epoch 16/30\n",
            "1250/1250 [==============================] - 9s 7ms/step - loss: 0.2890 - accuracy: 0.8783 - val_loss: 0.3148 - val_accuracy: 0.8673\n",
            "Epoch 17/30\n",
            "1250/1250 [==============================] - 11s 8ms/step - loss: 0.2891 - accuracy: 0.8781 - val_loss: 0.3135 - val_accuracy: 0.8667\n",
            "Epoch 18/30\n",
            "1250/1250 [==============================] - 9s 7ms/step - loss: 0.2882 - accuracy: 0.8794 - val_loss: 0.3071 - val_accuracy: 0.8709\n",
            "Epoch 19/30\n",
            "1250/1250 [==============================] - 9s 7ms/step - loss: 0.2876 - accuracy: 0.8798 - val_loss: 0.3143 - val_accuracy: 0.8625\n",
            "Epoch 20/30\n",
            "1250/1250 [==============================] - 9s 7ms/step - loss: 0.2887 - accuracy: 0.8788 - val_loss: 0.3050 - val_accuracy: 0.8705\n",
            "Epoch 21/30\n",
            "1250/1250 [==============================] - 9s 7ms/step - loss: 0.2878 - accuracy: 0.8784 - val_loss: 0.3199 - val_accuracy: 0.8645\n",
            "Epoch 22/30\n",
            "1250/1250 [==============================] - 9s 7ms/step - loss: 0.2875 - accuracy: 0.8787 - val_loss: 0.3074 - val_accuracy: 0.8668\n",
            "Epoch 23/30\n",
            "1250/1250 [==============================] - 9s 7ms/step - loss: 0.2870 - accuracy: 0.8787 - val_loss: 0.3057 - val_accuracy: 0.8678\n",
            "Epoch 24/30\n",
            "1250/1250 [==============================] - 8s 7ms/step - loss: 0.2862 - accuracy: 0.8799 - val_loss: 0.3088 - val_accuracy: 0.8695\n",
            "Epoch 25/30\n",
            "1250/1250 [==============================] - 9s 7ms/step - loss: 0.2863 - accuracy: 0.8783 - val_loss: 0.3108 - val_accuracy: 0.8702\n",
            "Epoch 26/30\n",
            "1250/1250 [==============================] - 9s 7ms/step - loss: 0.2859 - accuracy: 0.8790 - val_loss: 0.3048 - val_accuracy: 0.8702\n",
            "Epoch 27/30\n",
            "1250/1250 [==============================] - 8s 7ms/step - loss: 0.2848 - accuracy: 0.8796 - val_loss: 0.3186 - val_accuracy: 0.8608\n",
            "Epoch 28/30\n",
            "1250/1250 [==============================] - 9s 7ms/step - loss: 0.2852 - accuracy: 0.8781 - val_loss: 0.3043 - val_accuracy: 0.8677\n",
            "Epoch 29/30\n",
            "1250/1250 [==============================] - 9s 7ms/step - loss: 0.2855 - accuracy: 0.8791 - val_loss: 0.3068 - val_accuracy: 0.8706\n",
            "Epoch 30/30\n",
            "1250/1250 [==============================] - 9s 7ms/step - loss: 0.2830 - accuracy: 0.8810 - val_loss: 0.3062 - val_accuracy: 0.8704\n"
          ]
        }
      ]
    },
    {
      "cell_type": "code",
      "source": [
        "import matplotlib.pyplot as plt\n",
        "\n",
        "\n",
        "def plot_graphs(history, string):\n",
        "  plt.plot(history.history[string])\n",
        "  plt.plot(history.history['val_'+string])\n",
        "  plt.xlabel(\"Epochs\")\n",
        "  plt.ylabel(string)\n",
        "  plt.legend([string, 'val_'+string])\n",
        "  plt.show()\n",
        "  \n",
        "plot_graphs(history, \"accuracy\")\n",
        "plot_graphs(history, \"loss\")"
      ],
      "metadata": {
        "colab": {
          "base_uri": "https://localhost:8080/",
          "height": 544
        },
        "id": "2hwRNfP4bLuC",
        "outputId": "1aa11933-9d91-40f7-bdce-f2c876be62a6"
      },
      "execution_count": 21,
      "outputs": [
        {
          "output_type": "display_data",
          "data": {
            "text/plain": [
              "<Figure size 432x288 with 1 Axes>"
            ],
            "image/png": "[encoded data removed]"
          },
          "metadata": {
            "needs_background": "light"
          }
        },
        {
          "output_type": "display_data",
          "data": {
            "text/plain": [
              "<Figure size 432x288 with 1 Axes>"
            ],
            "image/png": "[encoded data removed]"
          },
          "metadata": {
            "needs_background": "light"
          }
        }
      ]
    },
    {
      "cell_type": "code",
      "source": [
        "sentence = [\"This movie is absolutely terrible. The directing, acting, script and production are all bad. There is actually NOTHING redeemable about it. In fact if MY friend was in this movie, instead of giving it a perfect score, I'd stop being friends with them. That's how bad it is. YOU HAVE BEEN WARNED DO NOT WASTE YOUR TIME ON THIS MOVIE.\"]\n",
        "sequences = tokenizer.texts_to_sequences(sentence)\n",
        "padded = pad_sequences(sequences, maxlen=max_length, padding=padding_type, truncating=trunc_type)\n",
        "print(model.predict(padded))"
      ],
      "metadata": {
        "colab": {
          "base_uri": "https://localhost:8080/"
        },
        "id": "KR5npWLcevER",
        "outputId": "3f83ebf3-d64a-4111-b2a3-229278c50600"
      },
      "execution_count": 27,
      "outputs": [
        {
          "output_type": "stream",
          "name": "stdout",
          "text": [
            "1/1 [==============================] - 0s 21ms/step\n",
            "[[0.00371902]]\n"
          ]
        }
      ]
    }
  ]
}